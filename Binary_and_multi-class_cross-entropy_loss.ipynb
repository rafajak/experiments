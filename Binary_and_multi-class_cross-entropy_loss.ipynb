{
 "cells": [
  {
   "cell_type": "markdown",
   "metadata": {},
   "source": [
    "Let's calculate binary and multi class log loss / cross-entropy for a sample dataset; note that this is not a neat implementation of either - I'm just working some things out to understand it better :) "
   ]
  },
  {
   "cell_type": "code",
   "execution_count": 10,
   "metadata": {
    "collapsed": true
   },
   "outputs": [],
   "source": [
    "import numpy as np\n",
    "import pandas as pd\n",
    "import matplotlib.pyplot as plt\n",
    "import sklearn.metrics\n",
    "\n",
    "%matplotlib inline"
   ]
  },
  {
   "cell_type": "markdown",
   "metadata": {},
   "source": [
    "Step 1: Whip up a sample dataset!"
   ]
  },
  {
   "cell_type": "code",
   "execution_count": 11,
   "metadata": {
    "collapsed": true
   },
   "outputs": [],
   "source": [
    "#these will be out predictions\n",
    "y_pred = pd.DataFrame(np.random.uniform(0,1,10), columns = [\"y_pred\"])"
   ]
  },
  {
   "cell_type": "code",
   "execution_count": 12,
   "metadata": {
    "collapsed": true
   },
   "outputs": [],
   "source": [
    "#these will be the true values of the thing we're predicting\n",
    "y = pd.DataFrame(np.random.randint(0,2,y_pred.size), columns = [\"y\"])"
   ]
  },
  {
   "cell_type": "code",
   "execution_count": 13,
   "metadata": {},
   "outputs": [
    {
     "data": {
      "text/html": [
       "<div>\n",
       "<style scoped>\n",
       "    .dataframe tbody tr th:only-of-type {\n",
       "        vertical-align: middle;\n",
       "    }\n",
       "\n",
       "    .dataframe tbody tr th {\n",
       "        vertical-align: top;\n",
       "    }\n",
       "\n",
       "    .dataframe thead th {\n",
       "        text-align: right;\n",
       "    }\n",
       "</style>\n",
       "<table border=\"1\" class=\"dataframe\">\n",
       "  <thead>\n",
       "    <tr style=\"text-align: right;\">\n",
       "      <th></th>\n",
       "      <th>y_pred</th>\n",
       "      <th>y</th>\n",
       "    </tr>\n",
       "  </thead>\n",
       "  <tbody>\n",
       "    <tr>\n",
       "      <th>0</th>\n",
       "      <td>0.189906</td>\n",
       "      <td>0</td>\n",
       "    </tr>\n",
       "    <tr>\n",
       "      <th>1</th>\n",
       "      <td>0.210304</td>\n",
       "      <td>1</td>\n",
       "    </tr>\n",
       "    <tr>\n",
       "      <th>2</th>\n",
       "      <td>0.964080</td>\n",
       "      <td>1</td>\n",
       "    </tr>\n",
       "    <tr>\n",
       "      <th>3</th>\n",
       "      <td>0.440199</td>\n",
       "      <td>1</td>\n",
       "    </tr>\n",
       "    <tr>\n",
       "      <th>4</th>\n",
       "      <td>0.847321</td>\n",
       "      <td>0</td>\n",
       "    </tr>\n",
       "    <tr>\n",
       "      <th>5</th>\n",
       "      <td>0.097608</td>\n",
       "      <td>1</td>\n",
       "    </tr>\n",
       "    <tr>\n",
       "      <th>6</th>\n",
       "      <td>0.595879</td>\n",
       "      <td>0</td>\n",
       "    </tr>\n",
       "    <tr>\n",
       "      <th>7</th>\n",
       "      <td>0.831450</td>\n",
       "      <td>1</td>\n",
       "    </tr>\n",
       "    <tr>\n",
       "      <th>8</th>\n",
       "      <td>0.262923</td>\n",
       "      <td>1</td>\n",
       "    </tr>\n",
       "    <tr>\n",
       "      <th>9</th>\n",
       "      <td>0.350548</td>\n",
       "      <td>1</td>\n",
       "    </tr>\n",
       "  </tbody>\n",
       "</table>\n",
       "</div>"
      ],
      "text/plain": [
       "     y_pred  y\n",
       "0  0.189906  0\n",
       "1  0.210304  1\n",
       "2  0.964080  1\n",
       "3  0.440199  1\n",
       "4  0.847321  0\n",
       "5  0.097608  1\n",
       "6  0.595879  0\n",
       "7  0.831450  1\n",
       "8  0.262923  1\n",
       "9  0.350548  1"
      ]
     },
     "execution_count": 13,
     "metadata": {},
     "output_type": "execute_result"
    }
   ],
   "source": [
    "df = y_pred.join(y)\n",
    "df"
   ]
  },
  {
   "cell_type": "markdown",
   "metadata": {},
   "source": [
    "Calculate binary log loss for each row"
   ]
  },
  {
   "cell_type": "code",
   "execution_count": 14,
   "metadata": {
    "collapsed": true
   },
   "outputs": [],
   "source": [
    "df['logloss'] = - (df.y * np.log(df.y_pred) + (1 - df.y) * (np.log(1 - df.y_pred)))"
   ]
  },
  {
   "cell_type": "code",
   "execution_count": 15,
   "metadata": {
    "scrolled": false
   },
   "outputs": [
    {
     "data": {
      "text/html": [
       "<div>\n",
       "<style scoped>\n",
       "    .dataframe tbody tr th:only-of-type {\n",
       "        vertical-align: middle;\n",
       "    }\n",
       "\n",
       "    .dataframe tbody tr th {\n",
       "        vertical-align: top;\n",
       "    }\n",
       "\n",
       "    .dataframe thead th {\n",
       "        text-align: right;\n",
       "    }\n",
       "</style>\n",
       "<table border=\"1\" class=\"dataframe\">\n",
       "  <thead>\n",
       "    <tr style=\"text-align: right;\">\n",
       "      <th></th>\n",
       "      <th>y_pred</th>\n",
       "      <th>y</th>\n",
       "      <th>logloss</th>\n",
       "    </tr>\n",
       "  </thead>\n",
       "  <tbody>\n",
       "    <tr>\n",
       "      <th>0</th>\n",
       "      <td>0.189906</td>\n",
       "      <td>0</td>\n",
       "      <td>0.210605</td>\n",
       "    </tr>\n",
       "    <tr>\n",
       "      <th>1</th>\n",
       "      <td>0.210304</td>\n",
       "      <td>1</td>\n",
       "      <td>1.559199</td>\n",
       "    </tr>\n",
       "    <tr>\n",
       "      <th>2</th>\n",
       "      <td>0.964080</td>\n",
       "      <td>1</td>\n",
       "      <td>0.036581</td>\n",
       "    </tr>\n",
       "    <tr>\n",
       "      <th>3</th>\n",
       "      <td>0.440199</td>\n",
       "      <td>1</td>\n",
       "      <td>0.820528</td>\n",
       "    </tr>\n",
       "    <tr>\n",
       "      <th>4</th>\n",
       "      <td>0.847321</td>\n",
       "      <td>0</td>\n",
       "      <td>1.879419</td>\n",
       "    </tr>\n",
       "    <tr>\n",
       "      <th>5</th>\n",
       "      <td>0.097608</td>\n",
       "      <td>1</td>\n",
       "      <td>2.326798</td>\n",
       "    </tr>\n",
       "    <tr>\n",
       "      <th>6</th>\n",
       "      <td>0.595879</td>\n",
       "      <td>0</td>\n",
       "      <td>0.906041</td>\n",
       "    </tr>\n",
       "    <tr>\n",
       "      <th>7</th>\n",
       "      <td>0.831450</td>\n",
       "      <td>1</td>\n",
       "      <td>0.184584</td>\n",
       "    </tr>\n",
       "    <tr>\n",
       "      <th>8</th>\n",
       "      <td>0.262923</td>\n",
       "      <td>1</td>\n",
       "      <td>1.335893</td>\n",
       "    </tr>\n",
       "    <tr>\n",
       "      <th>9</th>\n",
       "      <td>0.350548</td>\n",
       "      <td>1</td>\n",
       "      <td>1.048257</td>\n",
       "    </tr>\n",
       "  </tbody>\n",
       "</table>\n",
       "</div>"
      ],
      "text/plain": [
       "     y_pred  y   logloss\n",
       "0  0.189906  0  0.210605\n",
       "1  0.210304  1  1.559199\n",
       "2  0.964080  1  0.036581\n",
       "3  0.440199  1  0.820528\n",
       "4  0.847321  0  1.879419\n",
       "5  0.097608  1  2.326798\n",
       "6  0.595879  0  0.906041\n",
       "7  0.831450  1  0.184584\n",
       "8  0.262923  1  1.335893\n",
       "9  0.350548  1  1.048257"
      ]
     },
     "execution_count": 15,
     "metadata": {},
     "output_type": "execute_result"
    }
   ],
   "source": [
    "df"
   ]
  },
  {
   "cell_type": "code",
   "execution_count": 16,
   "metadata": {},
   "outputs": [
    {
     "data": {
      "text/plain": [
       "1.0307904100792016"
      ]
     },
     "execution_count": 16,
     "metadata": {},
     "output_type": "execute_result"
    }
   ],
   "source": [
    "avg_log_loss = df.logloss.mean()\n",
    "avg_log_loss"
   ]
  },
  {
   "cell_type": "markdown",
   "metadata": {},
   "source": [
    "Let's compare it with a log loss calculated with sklearn"
   ]
  },
  {
   "cell_type": "code",
   "execution_count": 17,
   "metadata": {
    "scrolled": true
   },
   "outputs": [
    {
     "data": {
      "text/plain": [
       "1.0307904100792014"
      ]
     },
     "execution_count": 17,
     "metadata": {},
     "output_type": "execute_result"
    }
   ],
   "source": [
    "sklearn.metrics.log_loss(y,y_pred)"
   ]
  },
  {
   "cell_type": "markdown",
   "metadata": {},
   "source": [
    "######  Multi-class cross-entropy"
   ]
  },
  {
   "cell_type": "markdown",
   "metadata": {},
   "source": [
    "Let's make an example of a Multi class log loss. In this case, let's prepare a dataset with 4 columns: one for the value of a 3-class thing we want to predict (which takes values from 1 to 3), and 3 variables we'll pretend are our predicted probabilities for each of these 3 clases."
   ]
  },
  {
   "cell_type": "code",
   "execution_count": 18,
   "metadata": {
    "collapsed": true
   },
   "outputs": [],
   "source": [
    "df = pd.DataFrame(np.random.uniform(0,1,10), columns = [\"prob_y1\"])\n",
    "df[\"prob_y2\"] = pd.DataFrame(np.random.uniform(0,1,10), columns = [\"prob_y2\"])\n",
    "df[\"prob_y3\"] = pd.DataFrame(np.random.uniform(0,1,10), columns = [\"prob_y3\"])\n",
    "df[\"y\"] = pd.DataFrame(np.random.randint(1,4,10), columns = [\"y\"])"
   ]
  },
  {
   "cell_type": "code",
   "execution_count": 19,
   "metadata": {
    "scrolled": true
   },
   "outputs": [
    {
     "data": {
      "text/html": [
       "<div>\n",
       "<style scoped>\n",
       "    .dataframe tbody tr th:only-of-type {\n",
       "        vertical-align: middle;\n",
       "    }\n",
       "\n",
       "    .dataframe tbody tr th {\n",
       "        vertical-align: top;\n",
       "    }\n",
       "\n",
       "    .dataframe thead th {\n",
       "        text-align: right;\n",
       "    }\n",
       "</style>\n",
       "<table border=\"1\" class=\"dataframe\">\n",
       "  <thead>\n",
       "    <tr style=\"text-align: right;\">\n",
       "      <th></th>\n",
       "      <th>prob_y1</th>\n",
       "      <th>prob_y2</th>\n",
       "      <th>prob_y3</th>\n",
       "      <th>y</th>\n",
       "    </tr>\n",
       "  </thead>\n",
       "  <tbody>\n",
       "    <tr>\n",
       "      <th>0</th>\n",
       "      <td>0.837022</td>\n",
       "      <td>0.923960</td>\n",
       "      <td>0.729480</td>\n",
       "      <td>2</td>\n",
       "    </tr>\n",
       "    <tr>\n",
       "      <th>1</th>\n",
       "      <td>0.059296</td>\n",
       "      <td>0.023347</td>\n",
       "      <td>0.275162</td>\n",
       "      <td>3</td>\n",
       "    </tr>\n",
       "    <tr>\n",
       "      <th>2</th>\n",
       "      <td>0.758702</td>\n",
       "      <td>0.281903</td>\n",
       "      <td>0.710503</td>\n",
       "      <td>2</td>\n",
       "    </tr>\n",
       "    <tr>\n",
       "      <th>3</th>\n",
       "      <td>0.697489</td>\n",
       "      <td>0.371361</td>\n",
       "      <td>0.533869</td>\n",
       "      <td>3</td>\n",
       "    </tr>\n",
       "    <tr>\n",
       "      <th>4</th>\n",
       "      <td>0.707981</td>\n",
       "      <td>0.866259</td>\n",
       "      <td>0.995853</td>\n",
       "      <td>3</td>\n",
       "    </tr>\n",
       "    <tr>\n",
       "      <th>5</th>\n",
       "      <td>0.095159</td>\n",
       "      <td>0.935333</td>\n",
       "      <td>0.128930</td>\n",
       "      <td>2</td>\n",
       "    </tr>\n",
       "    <tr>\n",
       "      <th>6</th>\n",
       "      <td>0.080733</td>\n",
       "      <td>0.717363</td>\n",
       "      <td>0.164783</td>\n",
       "      <td>3</td>\n",
       "    </tr>\n",
       "    <tr>\n",
       "      <th>7</th>\n",
       "      <td>0.059530</td>\n",
       "      <td>0.516702</td>\n",
       "      <td>0.081829</td>\n",
       "      <td>3</td>\n",
       "    </tr>\n",
       "    <tr>\n",
       "      <th>8</th>\n",
       "      <td>0.673730</td>\n",
       "      <td>0.984894</td>\n",
       "      <td>0.138374</td>\n",
       "      <td>2</td>\n",
       "    </tr>\n",
       "    <tr>\n",
       "      <th>9</th>\n",
       "      <td>0.517270</td>\n",
       "      <td>0.138448</td>\n",
       "      <td>0.657063</td>\n",
       "      <td>2</td>\n",
       "    </tr>\n",
       "  </tbody>\n",
       "</table>\n",
       "</div>"
      ],
      "text/plain": [
       "    prob_y1   prob_y2   prob_y3  y\n",
       "0  0.837022  0.923960  0.729480  2\n",
       "1  0.059296  0.023347  0.275162  3\n",
       "2  0.758702  0.281903  0.710503  2\n",
       "3  0.697489  0.371361  0.533869  3\n",
       "4  0.707981  0.866259  0.995853  3\n",
       "5  0.095159  0.935333  0.128930  2\n",
       "6  0.080733  0.717363  0.164783  3\n",
       "7  0.059530  0.516702  0.081829  3\n",
       "8  0.673730  0.984894  0.138374  2\n",
       "9  0.517270  0.138448  0.657063  2"
      ]
     },
     "execution_count": 19,
     "metadata": {},
     "output_type": "execute_result"
    }
   ],
   "source": [
    "df"
   ]
  },
  {
   "cell_type": "markdown",
   "metadata": {},
   "source": [
    "Let's normalize the probabilities, so they add up to 1 for each row"
   ]
  },
  {
   "cell_type": "code",
   "execution_count": 20,
   "metadata": {},
   "outputs": [
    {
     "data": {
      "text/html": [
       "<div>\n",
       "<style scoped>\n",
       "    .dataframe tbody tr th:only-of-type {\n",
       "        vertical-align: middle;\n",
       "    }\n",
       "\n",
       "    .dataframe tbody tr th {\n",
       "        vertical-align: top;\n",
       "    }\n",
       "\n",
       "    .dataframe thead th {\n",
       "        text-align: right;\n",
       "    }\n",
       "</style>\n",
       "<table border=\"1\" class=\"dataframe\">\n",
       "  <thead>\n",
       "    <tr style=\"text-align: right;\">\n",
       "      <th></th>\n",
       "      <th>prob_y1</th>\n",
       "      <th>prob_y2</th>\n",
       "      <th>prob_y3</th>\n",
       "      <th>y</th>\n",
       "    </tr>\n",
       "  </thead>\n",
       "  <tbody>\n",
       "    <tr>\n",
       "      <th>0</th>\n",
       "      <td>0.336091</td>\n",
       "      <td>0.370999</td>\n",
       "      <td>0.292910</td>\n",
       "      <td>2</td>\n",
       "    </tr>\n",
       "    <tr>\n",
       "      <th>1</th>\n",
       "      <td>0.165723</td>\n",
       "      <td>0.065251</td>\n",
       "      <td>0.769026</td>\n",
       "      <td>3</td>\n",
       "    </tr>\n",
       "    <tr>\n",
       "      <th>2</th>\n",
       "      <td>0.433270</td>\n",
       "      <td>0.160985</td>\n",
       "      <td>0.405745</td>\n",
       "      <td>2</td>\n",
       "    </tr>\n",
       "    <tr>\n",
       "      <th>3</th>\n",
       "      <td>0.435191</td>\n",
       "      <td>0.231707</td>\n",
       "      <td>0.333102</td>\n",
       "      <td>3</td>\n",
       "    </tr>\n",
       "    <tr>\n",
       "      <th>4</th>\n",
       "      <td>0.275469</td>\n",
       "      <td>0.337054</td>\n",
       "      <td>0.387477</td>\n",
       "      <td>3</td>\n",
       "    </tr>\n",
       "    <tr>\n",
       "      <th>5</th>\n",
       "      <td>0.082074</td>\n",
       "      <td>0.806724</td>\n",
       "      <td>0.111202</td>\n",
       "      <td>2</td>\n",
       "    </tr>\n",
       "    <tr>\n",
       "      <th>6</th>\n",
       "      <td>0.083845</td>\n",
       "      <td>0.745018</td>\n",
       "      <td>0.171136</td>\n",
       "      <td>3</td>\n",
       "    </tr>\n",
       "    <tr>\n",
       "      <th>7</th>\n",
       "      <td>0.090463</td>\n",
       "      <td>0.785188</td>\n",
       "      <td>0.124349</td>\n",
       "      <td>3</td>\n",
       "    </tr>\n",
       "    <tr>\n",
       "      <th>8</th>\n",
       "      <td>0.374920</td>\n",
       "      <td>0.548077</td>\n",
       "      <td>0.077003</td>\n",
       "      <td>2</td>\n",
       "    </tr>\n",
       "    <tr>\n",
       "      <th>9</th>\n",
       "      <td>0.394026</td>\n",
       "      <td>0.105462</td>\n",
       "      <td>0.500512</td>\n",
       "      <td>2</td>\n",
       "    </tr>\n",
       "  </tbody>\n",
       "</table>\n",
       "</div>"
      ],
      "text/plain": [
       "    prob_y1   prob_y2   prob_y3  y\n",
       "0  0.336091  0.370999  0.292910  2\n",
       "1  0.165723  0.065251  0.769026  3\n",
       "2  0.433270  0.160985  0.405745  2\n",
       "3  0.435191  0.231707  0.333102  3\n",
       "4  0.275469  0.337054  0.387477  3\n",
       "5  0.082074  0.806724  0.111202  2\n",
       "6  0.083845  0.745018  0.171136  3\n",
       "7  0.090463  0.785188  0.124349  3\n",
       "8  0.374920  0.548077  0.077003  2\n",
       "9  0.394026  0.105462  0.500512  2"
      ]
     },
     "execution_count": 20,
     "metadata": {},
     "output_type": "execute_result"
    }
   ],
   "source": [
    "sum_of_probs = df[[\"prob_y1\",\"prob_y2\",\"prob_y3\"]].sum(axis=1) \n",
    "\n",
    "df[\"prob_y1\"] /= sum_of_probs\n",
    "df[\"prob_y2\"] /= sum_of_probs\n",
    "df[\"prob_y3\"] /= sum_of_probs\n",
    "df"
   ]
  },
  {
   "cell_type": "markdown",
   "metadata": {},
   "source": [
    "Let's add separate 'y' columns for each label to make it apparent how multi-class log loss relates to binary log loss"
   ]
  },
  {
   "cell_type": "code",
   "execution_count": 21,
   "metadata": {
    "scrolled": true
   },
   "outputs": [
    {
     "data": {
      "text/html": [
       "<div>\n",
       "<style scoped>\n",
       "    .dataframe tbody tr th:only-of-type {\n",
       "        vertical-align: middle;\n",
       "    }\n",
       "\n",
       "    .dataframe tbody tr th {\n",
       "        vertical-align: top;\n",
       "    }\n",
       "\n",
       "    .dataframe thead th {\n",
       "        text-align: right;\n",
       "    }\n",
       "</style>\n",
       "<table border=\"1\" class=\"dataframe\">\n",
       "  <thead>\n",
       "    <tr style=\"text-align: right;\">\n",
       "      <th></th>\n",
       "      <th>prob_y1</th>\n",
       "      <th>prob_y2</th>\n",
       "      <th>prob_y3</th>\n",
       "      <th>y</th>\n",
       "      <th>y1</th>\n",
       "      <th>y2</th>\n",
       "      <th>y3</th>\n",
       "    </tr>\n",
       "  </thead>\n",
       "  <tbody>\n",
       "    <tr>\n",
       "      <th>0</th>\n",
       "      <td>0.336091</td>\n",
       "      <td>0.370999</td>\n",
       "      <td>0.292910</td>\n",
       "      <td>2</td>\n",
       "      <td>False</td>\n",
       "      <td>True</td>\n",
       "      <td>False</td>\n",
       "    </tr>\n",
       "    <tr>\n",
       "      <th>1</th>\n",
       "      <td>0.165723</td>\n",
       "      <td>0.065251</td>\n",
       "      <td>0.769026</td>\n",
       "      <td>3</td>\n",
       "      <td>False</td>\n",
       "      <td>False</td>\n",
       "      <td>True</td>\n",
       "    </tr>\n",
       "    <tr>\n",
       "      <th>2</th>\n",
       "      <td>0.433270</td>\n",
       "      <td>0.160985</td>\n",
       "      <td>0.405745</td>\n",
       "      <td>2</td>\n",
       "      <td>False</td>\n",
       "      <td>True</td>\n",
       "      <td>False</td>\n",
       "    </tr>\n",
       "    <tr>\n",
       "      <th>3</th>\n",
       "      <td>0.435191</td>\n",
       "      <td>0.231707</td>\n",
       "      <td>0.333102</td>\n",
       "      <td>3</td>\n",
       "      <td>False</td>\n",
       "      <td>False</td>\n",
       "      <td>True</td>\n",
       "    </tr>\n",
       "    <tr>\n",
       "      <th>4</th>\n",
       "      <td>0.275469</td>\n",
       "      <td>0.337054</td>\n",
       "      <td>0.387477</td>\n",
       "      <td>3</td>\n",
       "      <td>False</td>\n",
       "      <td>False</td>\n",
       "      <td>True</td>\n",
       "    </tr>\n",
       "    <tr>\n",
       "      <th>5</th>\n",
       "      <td>0.082074</td>\n",
       "      <td>0.806724</td>\n",
       "      <td>0.111202</td>\n",
       "      <td>2</td>\n",
       "      <td>False</td>\n",
       "      <td>True</td>\n",
       "      <td>False</td>\n",
       "    </tr>\n",
       "    <tr>\n",
       "      <th>6</th>\n",
       "      <td>0.083845</td>\n",
       "      <td>0.745018</td>\n",
       "      <td>0.171136</td>\n",
       "      <td>3</td>\n",
       "      <td>False</td>\n",
       "      <td>False</td>\n",
       "      <td>True</td>\n",
       "    </tr>\n",
       "    <tr>\n",
       "      <th>7</th>\n",
       "      <td>0.090463</td>\n",
       "      <td>0.785188</td>\n",
       "      <td>0.124349</td>\n",
       "      <td>3</td>\n",
       "      <td>False</td>\n",
       "      <td>False</td>\n",
       "      <td>True</td>\n",
       "    </tr>\n",
       "    <tr>\n",
       "      <th>8</th>\n",
       "      <td>0.374920</td>\n",
       "      <td>0.548077</td>\n",
       "      <td>0.077003</td>\n",
       "      <td>2</td>\n",
       "      <td>False</td>\n",
       "      <td>True</td>\n",
       "      <td>False</td>\n",
       "    </tr>\n",
       "    <tr>\n",
       "      <th>9</th>\n",
       "      <td>0.394026</td>\n",
       "      <td>0.105462</td>\n",
       "      <td>0.500512</td>\n",
       "      <td>2</td>\n",
       "      <td>False</td>\n",
       "      <td>True</td>\n",
       "      <td>False</td>\n",
       "    </tr>\n",
       "  </tbody>\n",
       "</table>\n",
       "</div>"
      ],
      "text/plain": [
       "    prob_y1   prob_y2   prob_y3  y     y1     y2     y3\n",
       "0  0.336091  0.370999  0.292910  2  False   True  False\n",
       "1  0.165723  0.065251  0.769026  3  False  False   True\n",
       "2  0.433270  0.160985  0.405745  2  False   True  False\n",
       "3  0.435191  0.231707  0.333102  3  False  False   True\n",
       "4  0.275469  0.337054  0.387477  3  False  False   True\n",
       "5  0.082074  0.806724  0.111202  2  False   True  False\n",
       "6  0.083845  0.745018  0.171136  3  False  False   True\n",
       "7  0.090463  0.785188  0.124349  3  False  False   True\n",
       "8  0.374920  0.548077  0.077003  2  False   True  False\n",
       "9  0.394026  0.105462  0.500512  2  False   True  False"
      ]
     },
     "execution_count": 21,
     "metadata": {},
     "output_type": "execute_result"
    }
   ],
   "source": [
    "df[\"y1\"] = df[\"y\"] == 1\n",
    "df[\"y2\"] = df[\"y\"] == 2\n",
    "df[\"y3\"] = df[\"y\"] == 3\n",
    "df"
   ]
  },
  {
   "cell_type": "markdown",
   "metadata": {},
   "source": [
    "now, it's as simple as taking the negative average of the three binary log losses (without the minus sign)"
   ]
  },
  {
   "cell_type": "code",
   "execution_count": 22,
   "metadata": {
    "scrolled": true
   },
   "outputs": [
    {
     "data": {
      "text/html": [
       "<div>\n",
       "<style scoped>\n",
       "    .dataframe tbody tr th:only-of-type {\n",
       "        vertical-align: middle;\n",
       "    }\n",
       "\n",
       "    .dataframe tbody tr th {\n",
       "        vertical-align: top;\n",
       "    }\n",
       "\n",
       "    .dataframe thead th {\n",
       "        text-align: right;\n",
       "    }\n",
       "</style>\n",
       "<table border=\"1\" class=\"dataframe\">\n",
       "  <thead>\n",
       "    <tr style=\"text-align: right;\">\n",
       "      <th></th>\n",
       "      <th>prob_y1</th>\n",
       "      <th>prob_y2</th>\n",
       "      <th>prob_y3</th>\n",
       "      <th>y</th>\n",
       "      <th>y1</th>\n",
       "      <th>y2</th>\n",
       "      <th>y3</th>\n",
       "      <th>logloss_y1</th>\n",
       "      <th>logloss_y2</th>\n",
       "      <th>logloss_y3</th>\n",
       "      <th>logloss</th>\n",
       "    </tr>\n",
       "  </thead>\n",
       "  <tbody>\n",
       "    <tr>\n",
       "      <th>0</th>\n",
       "      <td>0.336091</td>\n",
       "      <td>0.370999</td>\n",
       "      <td>0.292910</td>\n",
       "      <td>2</td>\n",
       "      <td>False</td>\n",
       "      <td>True</td>\n",
       "      <td>False</td>\n",
       "      <td>0.0</td>\n",
       "      <td>0.991555</td>\n",
       "      <td>0.000000</td>\n",
       "      <td>0.991555</td>\n",
       "    </tr>\n",
       "    <tr>\n",
       "      <th>1</th>\n",
       "      <td>0.165723</td>\n",
       "      <td>0.065251</td>\n",
       "      <td>0.769026</td>\n",
       "      <td>3</td>\n",
       "      <td>False</td>\n",
       "      <td>False</td>\n",
       "      <td>True</td>\n",
       "      <td>0.0</td>\n",
       "      <td>0.000000</td>\n",
       "      <td>0.262630</td>\n",
       "      <td>0.262630</td>\n",
       "    </tr>\n",
       "    <tr>\n",
       "      <th>2</th>\n",
       "      <td>0.433270</td>\n",
       "      <td>0.160985</td>\n",
       "      <td>0.405745</td>\n",
       "      <td>2</td>\n",
       "      <td>False</td>\n",
       "      <td>True</td>\n",
       "      <td>False</td>\n",
       "      <td>0.0</td>\n",
       "      <td>1.826441</td>\n",
       "      <td>0.000000</td>\n",
       "      <td>1.826441</td>\n",
       "    </tr>\n",
       "    <tr>\n",
       "      <th>3</th>\n",
       "      <td>0.435191</td>\n",
       "      <td>0.231707</td>\n",
       "      <td>0.333102</td>\n",
       "      <td>3</td>\n",
       "      <td>False</td>\n",
       "      <td>False</td>\n",
       "      <td>True</td>\n",
       "      <td>0.0</td>\n",
       "      <td>0.000000</td>\n",
       "      <td>1.099306</td>\n",
       "      <td>1.099306</td>\n",
       "    </tr>\n",
       "    <tr>\n",
       "      <th>4</th>\n",
       "      <td>0.275469</td>\n",
       "      <td>0.337054</td>\n",
       "      <td>0.387477</td>\n",
       "      <td>3</td>\n",
       "      <td>False</td>\n",
       "      <td>False</td>\n",
       "      <td>True</td>\n",
       "      <td>0.0</td>\n",
       "      <td>0.000000</td>\n",
       "      <td>0.948098</td>\n",
       "      <td>0.948098</td>\n",
       "    </tr>\n",
       "    <tr>\n",
       "      <th>5</th>\n",
       "      <td>0.082074</td>\n",
       "      <td>0.806724</td>\n",
       "      <td>0.111202</td>\n",
       "      <td>2</td>\n",
       "      <td>False</td>\n",
       "      <td>True</td>\n",
       "      <td>False</td>\n",
       "      <td>0.0</td>\n",
       "      <td>0.214774</td>\n",
       "      <td>0.000000</td>\n",
       "      <td>0.214774</td>\n",
       "    </tr>\n",
       "    <tr>\n",
       "      <th>6</th>\n",
       "      <td>0.083845</td>\n",
       "      <td>0.745018</td>\n",
       "      <td>0.171136</td>\n",
       "      <td>3</td>\n",
       "      <td>False</td>\n",
       "      <td>False</td>\n",
       "      <td>True</td>\n",
       "      <td>0.0</td>\n",
       "      <td>0.000000</td>\n",
       "      <td>1.765296</td>\n",
       "      <td>1.765296</td>\n",
       "    </tr>\n",
       "    <tr>\n",
       "      <th>7</th>\n",
       "      <td>0.090463</td>\n",
       "      <td>0.785188</td>\n",
       "      <td>0.124349</td>\n",
       "      <td>3</td>\n",
       "      <td>False</td>\n",
       "      <td>False</td>\n",
       "      <td>True</td>\n",
       "      <td>0.0</td>\n",
       "      <td>0.000000</td>\n",
       "      <td>2.084662</td>\n",
       "      <td>2.084662</td>\n",
       "    </tr>\n",
       "    <tr>\n",
       "      <th>8</th>\n",
       "      <td>0.374920</td>\n",
       "      <td>0.548077</td>\n",
       "      <td>0.077003</td>\n",
       "      <td>2</td>\n",
       "      <td>False</td>\n",
       "      <td>True</td>\n",
       "      <td>False</td>\n",
       "      <td>0.0</td>\n",
       "      <td>0.601339</td>\n",
       "      <td>0.000000</td>\n",
       "      <td>0.601339</td>\n",
       "    </tr>\n",
       "    <tr>\n",
       "      <th>9</th>\n",
       "      <td>0.394026</td>\n",
       "      <td>0.105462</td>\n",
       "      <td>0.500512</td>\n",
       "      <td>2</td>\n",
       "      <td>False</td>\n",
       "      <td>True</td>\n",
       "      <td>False</td>\n",
       "      <td>0.0</td>\n",
       "      <td>2.249407</td>\n",
       "      <td>0.000000</td>\n",
       "      <td>2.249407</td>\n",
       "    </tr>\n",
       "  </tbody>\n",
       "</table>\n",
       "</div>"
      ],
      "text/plain": [
       "    prob_y1   prob_y2   prob_y3  y     y1     y2     y3  logloss_y1  \\\n",
       "0  0.336091  0.370999  0.292910  2  False   True  False         0.0   \n",
       "1  0.165723  0.065251  0.769026  3  False  False   True         0.0   \n",
       "2  0.433270  0.160985  0.405745  2  False   True  False         0.0   \n",
       "3  0.435191  0.231707  0.333102  3  False  False   True         0.0   \n",
       "4  0.275469  0.337054  0.387477  3  False  False   True         0.0   \n",
       "5  0.082074  0.806724  0.111202  2  False   True  False         0.0   \n",
       "6  0.083845  0.745018  0.171136  3  False  False   True         0.0   \n",
       "7  0.090463  0.785188  0.124349  3  False  False   True         0.0   \n",
       "8  0.374920  0.548077  0.077003  2  False   True  False         0.0   \n",
       "9  0.394026  0.105462  0.500512  2  False   True  False         0.0   \n",
       "\n",
       "   logloss_y2  logloss_y3   logloss  \n",
       "0    0.991555    0.000000  0.991555  \n",
       "1    0.000000    0.262630  0.262630  \n",
       "2    1.826441    0.000000  1.826441  \n",
       "3    0.000000    1.099306  1.099306  \n",
       "4    0.000000    0.948098  0.948098  \n",
       "5    0.214774    0.000000  0.214774  \n",
       "6    0.000000    1.765296  1.765296  \n",
       "7    0.000000    2.084662  2.084662  \n",
       "8    0.601339    0.000000  0.601339  \n",
       "9    2.249407    0.000000  2.249407  "
      ]
     },
     "execution_count": 22,
     "metadata": {},
     "output_type": "execute_result"
    }
   ],
   "source": [
    "df['logloss_y1'] = - (df.y1 * np.log(df.prob_y1))\n",
    "df['logloss_y2'] = - (df.y2 * np.log(df.prob_y2))\n",
    "df['logloss_y3'] = - (df.y3 * np.log(df.prob_y3))\n",
    "df['logloss'] = df[[\"logloss_y1\", \"logloss_y2\", \"logloss_y3\"]].sum(axis=1)\n",
    "df"
   ]
  },
  {
   "cell_type": "markdown",
   "metadata": {},
   "source": [
    "Now we need to sum up all individual losses and take an average of them."
   ]
  },
  {
   "cell_type": "code",
   "execution_count": 23,
   "metadata": {
    "collapsed": true
   },
   "outputs": [],
   "source": [
    "_sum_logloss = df.logloss.sum()"
   ]
  },
  {
   "cell_type": "code",
   "execution_count": 24,
   "metadata": {
    "scrolled": false
   },
   "outputs": [
    {
     "data": {
      "text/plain": [
       "1.204350786499746"
      ]
     },
     "execution_count": 24,
     "metadata": {},
     "output_type": "execute_result"
    }
   ],
   "source": [
    "avg_logloss = _sum_logloss/df.shape[0]\n",
    "avg_logloss"
   ]
  },
  {
   "cell_type": "code",
   "execution_count": 25,
   "metadata": {},
   "outputs": [
    {
     "data": {
      "text/plain": [
       "1.2043507864997463"
      ]
     },
     "execution_count": 25,
     "metadata": {},
     "output_type": "execute_result"
    }
   ],
   "source": [
    "sklearn.metrics.log_loss(df[[\"y1\", \"y2\", \"y3\"]], df[[\"prob_y1\", \"prob_y2\", \"prob_y3\"]])"
   ]
  },
  {
   "cell_type": "markdown",
   "metadata": {},
   "source": [
    "boom"
   ]
  },
  {
   "cell_type": "code",
   "execution_count": null,
   "metadata": {
    "collapsed": true
   },
   "outputs": [],
   "source": []
  }
 ],
 "metadata": {
  "kernelspec": {
   "display_name": "Python 3",
   "language": "python",
   "name": "python3"
  },
  "language_info": {
   "codemirror_mode": {
    "name": "ipython",
    "version": 3
   },
   "file_extension": ".py",
   "mimetype": "text/x-python",
   "name": "python",
   "nbconvert_exporter": "python",
   "pygments_lexer": "ipython3",
   "version": "3.6.1"
  },
  "toc": {
   "base_numbering": 1,
   "nav_menu": {},
   "number_sections": true,
   "sideBar": true,
   "skip_h1_title": false,
   "title_cell": "Table of Contents",
   "title_sidebar": "Contents",
   "toc_cell": false,
   "toc_position": {},
   "toc_section_display": true,
   "toc_window_display": false
  }
 },
 "nbformat": 4,
 "nbformat_minor": 2
}
