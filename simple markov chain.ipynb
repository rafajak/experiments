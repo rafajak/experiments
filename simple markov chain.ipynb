{
 "cells": [
  {
   "cell_type": "code",
   "execution_count": 244,
   "metadata": {
    "collapsed": false
   },
   "outputs": [],
   "source": [
    "\n",
    "import numpy as np\n",
    "state_dict = {\"A\": np.array([[\"A\",\"B\",\"C\"],[0.1,0.3,0.6]]),\n",
    "              \"B\": np.array([[\"A\",\"B\",\"C\"],[0.1,0.3,0.6]]),\n",
    "              \"C\": np.array([[\"A\",\"B\",\"C\"],[0.4,0.5,0.1]])}\n",
    "\n",
    "class Markov(object):\n",
    "    def __init__(self, state_dict):\n",
    "        self.state_dict = state_dict\n",
    "        self.state = list(state_dict.keys())[0]\n",
    "\n",
    "    def check_state(self):\n",
    "        print(\"current state is {}\".format(self.state))\n",
    "        \n",
    "    def set_state(self, state):\n",
    "        self.state = state\n",
    "        print(\"current state is %s\" % self.state)\n",
    "    \n",
    "    def next_state(self):\n",
    "        a = (self.state_dict[self.state])\n",
    "\n",
    "        for n in range(1,10):\n",
    "            if n==1:\n",
    "                print(\"State  1  is\",self.state)\n",
    "            self.state = np.random.choice(a=list(a[0]), p=list(a[1]))\n",
    "            print(\"State \", n+1, \" is\", self.state) \n"
   ]
  },
  {
   "cell_type": "code",
   "execution_count": 245,
   "metadata": {
    "collapsed": false
   },
   "outputs": [],
   "source": [
    "diagram_a = Markov(state_dict)"
   ]
  },
  {
   "cell_type": "code",
   "execution_count": 246,
   "metadata": {
    "collapsed": false
   },
   "outputs": [
    {
     "name": "stdout",
     "output_type": "stream",
     "text": [
      "State  1  is C\n",
      "State  2  is B\n",
      "State  3  is A\n",
      "State  4  is A\n",
      "State  5  is A\n",
      "State  6  is A\n",
      "State  7  is B\n",
      "State  8  is C\n",
      "State  9  is C\n",
      "State  10  is A\n"
     ]
    }
   ],
   "source": [
    "diagram_a.next_state()"
   ]
  },
  {
   "cell_type": "code",
   "execution_count": null,
   "metadata": {
    "collapsed": true
   },
   "outputs": [],
   "source": []
  }
 ],
 "metadata": {
  "kernelspec": {
   "display_name": "Python [conda root]",
   "language": "python",
   "name": "conda-root-py"
  },
  "language_info": {
   "codemirror_mode": {
    "name": "ipython",
    "version": 3
   },
   "file_extension": ".py",
   "mimetype": "text/x-python",
   "name": "python",
   "nbconvert_exporter": "python",
   "pygments_lexer": "ipython3",
   "version": "3.5.2"
  }
 },
 "nbformat": 4,
 "nbformat_minor": 1
}
