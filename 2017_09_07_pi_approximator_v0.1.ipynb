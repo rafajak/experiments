{
 "cells": [
  {
   "cell_type": "markdown",
   "metadata": {},
   "source": [
    "\n",
    "If a circle of radius R = 1  is inscribed inside a square with side length 2*R, then the area of the circle will be pi*R^2 and the area of the square will be (2R)^2. So the ratio of the area of the circle to the area of the square will be (pi*R*2) / (2R)^2 = pi/4. This is also the formula for the probability that a pair of randomly (uniform distribution) drawn coordinates (x,y) will fall within the circle. For these coordinates, x^2 + y^2 < R^2 \n",
    "If we draw N random points in the square, and M of these points fall within the circle. The ratio of points that fall within the circle to all drawn points will be M/N = pi/4. Hence, pi = 4M/N\n",
    "\n",
    "\n",
    "Drawing more points will give better estimates of pi."
   ]
  },
  {
   "cell_type": "code",
   "execution_count": 1,
   "metadata": {
    "collapsed": true
   },
   "outputs": [],
   "source": [
    "import numpy as np"
   ]
  },
  {
   "cell_type": "code",
   "execution_count": 48,
   "metadata": {},
   "outputs": [],
   "source": [
    "def pi_approximator(n):\n",
    "    ''' inputs: n - number of coordinates to be sampled\n",
    "        returns: pi - approximation of pi \n",
    "    '''\n",
    "\n",
    "    r = 1\n",
    "    m = 0\n",
    "    \n",
    "    for n in range(n):\n",
    "        x = np.random.rand()*2 - 1\n",
    "        y = np.random.rand()*2 - 1\n",
    "        if (x**2 + y**2) < r**2:\n",
    "            m += 1\n",
    "    \n",
    "    pi = 4*m/n\n",
    "\n",
    "    return pi"
   ]
  },
  {
   "cell_type": "code",
   "execution_count": 49,
   "metadata": {},
   "outputs": [
    {
     "data": {
      "text/plain": [
       "3.1419079141907913"
      ]
     },
     "execution_count": 49,
     "metadata": {},
     "output_type": "execute_result"
    }
   ],
   "source": [
    "pi_approximator(10000000)"
   ]
  }
 ],
 "metadata": {
  "kernelspec": {
   "display_name": "Python 3",
   "language": "python",
   "name": "python3"
  },
  "language_info": {
   "codemirror_mode": {
    "name": "ipython",
    "version": 3
   },
   "file_extension": ".py",
   "mimetype": "text/x-python",
   "name": "python",
   "nbconvert_exporter": "python",
   "pygments_lexer": "ipython3",
   "version": "3.6.1"
  }
 },
 "nbformat": 4,
 "nbformat_minor": 2
}
